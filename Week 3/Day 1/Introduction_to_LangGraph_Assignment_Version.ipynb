{
  "cells": [
    {
      "cell_type": "markdown",
      "metadata": {
        "id": "gJXW_DgiSebM"
      },
      "source": [
        "# LangGraph and LangSmith - Agentic RAG Powered by LangChain\n",
        "\n",
        "In the following notebook we'll complete the following tasks:\n",
        "\n",
        "- 🤝 Breakout Room #1:\n",
        "  1. Install required libraries\n",
        "  2. Set Environment Variables\n",
        "  3. Creating our Tool Belt\n",
        "  4. Creating Our State\n",
        "  5. Creating and Compiling A Graph!\n",
        "\n",
        "  - 🤝 Breakout Room #2:\n",
        "  1. Evaluating the LangGraph Application with LangSmith\n",
        "  2. Adding Helpfulness Check and \"Loop\" Limits\n",
        "  3. LangGraph for the \"Patterns\" of GenAI"
      ]
    },
    {
      "cell_type": "markdown",
      "metadata": {
        "id": "djQ3nRAgoF67"
      },
      "source": [
        "# 🤝 Breakout Room #1"
      ]
    },
    {
      "cell_type": "markdown",
      "metadata": {
        "id": "e7pQDUhUnIo8"
      },
      "source": [
        "## Part 1: LangGraph - Building Cyclic Applications with LangChain\n",
        "\n",
        "LangGraph is a tool that leverages LangChain Expression Language to build coordinated multi-actor and stateful applications that includes cyclic behaviour.\n",
        "\n",
        "### Why Cycles?\n",
        "\n",
        "In essence, we can think of a cycle in our graph as a more robust and customizable loop. It allows us to keep our application agent-forward while still giving the powerful functionality of traditional loops.\n",
        "\n",
        "Due to the inclusion of cycles over loops, we can also compose rather complex flows through our graph in a much more readable and natural fashion. Effectively allowing us to recreate application flowcharts in code in an almost 1-to-1 fashion.\n",
        "\n",
        "### Why LangGraph?\n",
        "\n",
        "Beyond the agent-forward approach - we can easily compose and combine traditional \"DAG\" (directed acyclic graph) chains with powerful cyclic behaviour due to the tight integration with LCEL. This means it's a natural extension to LangChain's core offerings!"
      ]
    },
    {
      "cell_type": "markdown",
      "metadata": {
        "id": "3_fLDElOVoop"
      },
      "source": [
        "## Task 1:  Dependencies\n",
        "\n",
        "We'll first install all our required libraries."
      ]
    },
    {
      "cell_type": "code",
      "execution_count": 2,
      "metadata": {
        "id": "KaVwN269EttM"
      },
      "outputs": [],
      "source": [
        "!pip install -qU langchain langchain_openai langchain-community langgraph arxiv duckduckgo_search==5.3.1b1"
      ]
    },
    {
      "cell_type": "markdown",
      "metadata": {
        "id": "wujPjGJuoPwg"
      },
      "source": [
        "## Task 2: Environment Variables\n",
        "\n",
        "We'll want to set both our OpenAI API key and our LangSmith environment variables."
      ]
    },
    {
      "cell_type": "code",
      "execution_count": 3,
      "metadata": {
        "colab": {
          "base_uri": "https://localhost:8080/"
        },
        "id": "Jdh8CoVWHRvs",
        "outputId": "42b2ba5e-11ae-4f4d-e68e-77607bb794ad"
      },
      "outputs": [],
      "source": [
        "import os\n",
        "import getpass\n",
        "\n",
        "os.environ[\"OPENAI_API_KEY\"] = getpass.getpass(\"OpenAI API Key:\")"
      ]
    },
    {
      "cell_type": "code",
      "execution_count": 4,
      "metadata": {
        "colab": {
          "base_uri": "https://localhost:8080/"
        },
        "id": "Nv0glIDyHmRt",
        "outputId": "30aa2260-50f1-4abf-b305-eed0ee1b9008"
      },
      "outputs": [],
      "source": [
        "from uuid import uuid4\n",
        "\n",
        "os.environ[\"LANGCHAIN_TRACING_V2\"] = \"true\"\n",
        "os.environ[\"LANGCHAIN_PROJECT\"] = f\"AIE4 - LangGraph - {uuid4().hex[0:8]}\"\n",
        "os.environ[\"LANGCHAIN_API_KEY\"] = getpass.getpass(\"LangSmith API Key: \")"
      ]
    },
    {
      "cell_type": "markdown",
      "metadata": {
        "id": "sBRyQmEAVzua"
      },
      "source": [
        "## Task 3: Creating our Tool Belt\n",
        "\n",
        "As is usually the case, we'll want to equip our agent with a toolbelt to help answer questions and add external knowledge.\n",
        "\n",
        "There's a tonne of tools in the [LangChain Community Repo](https://github.com/langchain-ai/langchain/tree/master/libs/community/langchain_community/tools) but we'll stick to a couple just so we can observe the cyclic nature of LangGraph in action!\n",
        "\n",
        "We'll leverage:\n",
        "\n",
        "- [Duck Duck Go Web Search](https://github.com/langchain-ai/langchain/tree/master/libs/community/langchain_community/tools/ddg_search)\n",
        "- [Arxiv](https://github.com/langchain-ai/langchain/tree/master/libs/community/langchain_community/tools/arxiv)"
      ]
    },
    {
      "cell_type": "markdown",
      "metadata": {
        "id": "2k6n_Dob2F46"
      },
      "source": [
        "####🏗️ Activity #1:\n",
        "\n",
        "Please add the tools to use into our toolbelt.\n",
        "\n",
        "> NOTE: Each tool in our toolbelt should be a method."
      ]
    },
    {
      "cell_type": "code",
      "execution_count": 5,
      "metadata": {
        "id": "lAxaSvlfIeOg"
      },
      "outputs": [],
      "source": [
        "from langchain_community.tools.ddg_search import DuckDuckGoSearchRun\n",
        "from langchain_community.tools.arxiv.tool import ArxivQueryRun\n",
        "\n",
        "tool_belt = [\n",
        "    ArxivQueryRun(),\n",
        "    DuckDuckGoSearchRun()\n",
        "]"
      ]
    },
    {
      "cell_type": "markdown",
      "metadata": {
        "id": "VI-C669ZYVI5"
      },
      "source": [
        "### Model\n",
        "\n",
        "Now we can set-up our model! We'll leverage the familiar OpenAI model suite for this example - but it's not *necessary* to use with LangGraph. LangGraph supports all models - though you might not find success with smaller models - as such, they recommend you stick with:\n",
        "\n",
        "- OpenAI's GPT-3.5 and GPT-4\n",
        "- Anthropic's Claude\n",
        "- Google's Gemini\n",
        "\n",
        "> NOTE: Because we're leveraging the OpenAI function calling API - we'll need to use OpenAI *for this specific example* (or any other service that exposes an OpenAI-style function calling API."
      ]
    },
    {
      "cell_type": "code",
      "execution_count": 6,
      "metadata": {
        "id": "QkNS8rNZJs4z"
      },
      "outputs": [],
      "source": [
        "from langchain_openai import ChatOpenAI\n",
        "\n",
        "model = ChatOpenAI(model=\"gpt-4o\", temperature=0)"
      ]
    },
    {
      "cell_type": "markdown",
      "metadata": {
        "id": "Ugkj3GzuZpQv"
      },
      "source": [
        "Now that we have our model set-up, let's \"put on the tool belt\", which is to say: We'll bind our LangChain formatted tools to the model in an OpenAI function calling format."
      ]
    },
    {
      "cell_type": "code",
      "execution_count": 7,
      "metadata": {
        "id": "4OdMqFafZ_0V"
      },
      "outputs": [],
      "source": [
        "model = model.bind_tools(tool_belt)"
      ]
    },
    {
      "cell_type": "markdown",
      "metadata": {
        "id": "ERzuGo6W18Lr"
      },
      "source": [
        "#### ❓ Question #1:\n",
        "\n",
        "How does the model determine which tool to use?\n",
        "\n",
        "The model reads the descriptions of the tools you provide and determines what makes the most sense to use given the steps the model has reasoned through. "
      ]
    },
    {
      "cell_type": "markdown",
      "metadata": {
        "id": "_296Ub96Z_H8"
      },
      "source": [
        "## Task 4: Putting the State in Stateful\n",
        "\n",
        "Earlier we used this phrasing:\n",
        "\n",
        "`coordinated multi-actor and stateful applications`\n",
        "\n",
        "So what does that \"stateful\" mean?\n",
        "\n",
        "To put it simply - we want to have some kind of object which we can pass around our application that holds information about what the current situation (state) is. Since our system will be constructed of many parts moving in a coordinated fashion - we want to be able to ensure we have some commonly understood idea of that state.\n",
        "\n",
        "LangGraph leverages a `StatefulGraph` which uses an `AgentState` object to pass information between the various nodes of the graph.\n",
        "\n",
        "There are more options than what we'll see below - but this `AgentState` object is one that is stored in a `TypedDict` with the key `messages` and the value is a `Sequence` of `BaseMessages` that will be appended to whenever the state changes.\n",
        "\n",
        "Let's think about a simple example to help understand exactly what this means (we'll simplify a great deal to try and clearly communicate what state is doing):\n",
        "\n",
        "1. We initialize our state object:\n",
        "  - `{\"messages\" : []}`\n",
        "2. Our user submits a query to our application.\n",
        "  - New State: `HumanMessage(#1)`\n",
        "  - `{\"messages\" : [HumanMessage(#1)}`\n",
        "3. We pass our state object to an Agent node which is able to read the current state. It will use the last `HumanMessage` as input. It gets some kind of output which it will add to the state.\n",
        "  - New State: `AgentMessage(#1, additional_kwargs {\"function_call\" : \"WebSearchTool\"})`\n",
        "  - `{\"messages\" : [HumanMessage(#1), AgentMessage(#1, ...)]}`\n",
        "4. We pass our state object to a \"conditional node\" (more on this later) which reads the last state to determine if we need to use a tool - which it can determine properly because of our provided object!"
      ]
    },
    {
      "cell_type": "code",
      "execution_count": 8,
      "metadata": {
        "id": "mxL9b_NZKUdL"
      },
      "outputs": [],
      "source": [
        "from typing import TypedDict, Annotated\n",
        "from langgraph.graph.message import add_messages\n",
        "import operator\n",
        "from langchain_core.messages import BaseMessage\n",
        "\n",
        "class AgentState(TypedDict):\n",
        "  messages: Annotated[list, add_messages]"
      ]
    },
    {
      "cell_type": "markdown",
      "metadata": {
        "id": "vWsMhfO9grLu"
      },
      "source": [
        "## Task 5: It's Graphing Time!\n",
        "\n",
        "Now that we have state, and we have tools, and we have an LLM - we can finally start making our graph!\n",
        "\n",
        "Let's take a second to refresh ourselves about what a graph is in this context.\n",
        "\n",
        "Graphs, also called networks in some circles, are a collection of connected objects.\n",
        "\n",
        "The objects in question are typically called nodes, or vertices, and the connections are called edges.\n",
        "\n",
        "Let's look at a simple graph.\n",
        "\n",
        "![image](https://i.imgur.com/2NFLnIc.png)\n",
        "\n",
        "Here, we're using the coloured circles to represent the nodes and the yellow lines to represent the edges. In this case, we're looking at a fully connected graph - where each node is connected by an edge to each other node.\n",
        "\n",
        "If we were to think about nodes in the context of LangGraph - we would think of a function, or an LCEL runnable.\n",
        "\n",
        "If we were to think about edges in the context of LangGraph - we might think of them as \"paths to take\" or \"where to pass our state object next\".\n",
        "\n",
        "Let's create some nodes and expand on our diagram.\n",
        "\n",
        "> NOTE: Due to the tight integration with LCEL - we can comfortably create our nodes in an async fashion!"
      ]
    },
    {
      "cell_type": "code",
      "execution_count": 9,
      "metadata": {
        "id": "91flJWtZLUrl"
      },
      "outputs": [],
      "source": [
        "from langgraph.prebuilt import ToolNode\n",
        "\n",
        "def call_model(state):\n",
        "  messages = state[\"messages\"]\n",
        "  response = model.invoke(messages)\n",
        "  return {\"messages\" : [response]}\n",
        "\n",
        "tool_node = ToolNode(tool_belt)"
      ]
    },
    {
      "cell_type": "markdown",
      "metadata": {
        "id": "2bwR7MgWj3Wg"
      },
      "source": [
        "Now we have two total nodes. We have:\n",
        "\n",
        "- `call_model` is a node that will...well...call the model\n",
        "- `tool_node` is a node which can call a tool\n",
        "\n",
        "Let's start adding nodes! We'll update our diagram along the way to keep track of what this looks like!\n"
      ]
    },
    {
      "cell_type": "code",
      "execution_count": 10,
      "metadata": {
        "id": "_vF4_lgtmQNo"
      },
      "outputs": [],
      "source": [
        "from langgraph.graph import StateGraph, END\n",
        "\n",
        "uncompiled_graph = StateGraph(AgentState)\n",
        "\n",
        "uncompiled_graph.add_node(\"agent\", call_model)\n",
        "uncompiled_graph.add_node(\"action\", tool_node)"
      ]
    },
    {
      "cell_type": "markdown",
      "metadata": {
        "id": "b8CjRlbVmRpW"
      },
      "source": [
        "Let's look at what we have so far:\n",
        "\n",
        "![image](https://i.imgur.com/md7inqG.png)"
      ]
    },
    {
      "cell_type": "markdown",
      "metadata": {
        "id": "uaXHpPeSnOWC"
      },
      "source": [
        "Next, we'll add our entrypoint. All our entrypoint does is indicate which node is called first."
      ]
    },
    {
      "cell_type": "code",
      "execution_count": 11,
      "metadata": {
        "id": "YGCbaYqRnmiw"
      },
      "outputs": [],
      "source": [
        "uncompiled_graph.set_entry_point(\"agent\")"
      ]
    },
    {
      "cell_type": "markdown",
      "metadata": {
        "id": "BUsfGoSpoF9U"
      },
      "source": [
        "![image](https://i.imgur.com/wNixpJe.png)"
      ]
    },
    {
      "cell_type": "markdown",
      "metadata": {
        "id": "0Q_pQgHmoW0M"
      },
      "source": [
        "Now we want to build a \"conditional edge\" which will use the output state of a node to determine which path to follow.\n",
        "\n",
        "We can help conceptualize this by thinking of our conditional edge as a conditional in a flowchart!\n",
        "\n",
        "Notice how our function simply checks if there is a \"function_call\" kwarg present.\n",
        "\n",
        "Then we create an edge where the origin node is our agent node and our destination node is *either* the action node or the END (finish the graph).\n",
        "\n",
        "It's important to highlight that the dictionary passed in as the third parameter (the mapping) should be created with the possible outputs of our conditional function in mind. In this case `should_continue` outputs either `\"end\"` or `\"continue\"` which are subsequently mapped to the action node or the END node."
      ]
    },
    {
      "cell_type": "code",
      "execution_count": 12,
      "metadata": {
        "id": "1BZgb81VQf9o"
      },
      "outputs": [],
      "source": [
        "def should_continue(state):\n",
        "  last_message = state[\"messages\"][-1]\n",
        "\n",
        "  if last_message.tool_calls:\n",
        "    return \"action\"\n",
        "\n",
        "  return END\n",
        "\n",
        "uncompiled_graph.add_conditional_edges(\n",
        "    \"agent\",\n",
        "    should_continue\n",
        ")"
      ]
    },
    {
      "cell_type": "markdown",
      "metadata": {
        "id": "-Cvhcf4jp0Ce"
      },
      "source": [
        "Let's visualize what this looks like.\n",
        "\n",
        "![image](https://i.imgur.com/8ZNwKI5.png)"
      ]
    },
    {
      "cell_type": "markdown",
      "metadata": {
        "id": "yKCjWJCkrJb9"
      },
      "source": [
        "Finally, we can add our last edge which will connect our action node to our agent node. This is because we *always* want our action node (which is used to call our tools) to return its output to our agent!"
      ]
    },
    {
      "cell_type": "code",
      "execution_count": 13,
      "metadata": {
        "id": "UvcgbHf1rIXZ"
      },
      "outputs": [],
      "source": [
        "uncompiled_graph.add_edge(\"action\", \"agent\")"
      ]
    },
    {
      "cell_type": "markdown",
      "metadata": {
        "id": "EiWDwBQtrw7Z"
      },
      "source": [
        "Let's look at the final visualization.\n",
        "\n",
        "![image](https://i.imgur.com/NWO7usO.png)"
      ]
    },
    {
      "cell_type": "markdown",
      "metadata": {
        "id": "KYqDpErlsCsu"
      },
      "source": [
        "All that's left to do now is to compile our workflow - and we're off!"
      ]
    },
    {
      "cell_type": "code",
      "execution_count": 14,
      "metadata": {
        "id": "zt9-KS8DpzNx"
      },
      "outputs": [],
      "source": [
        "compiled_graph = uncompiled_graph.compile()"
      ]
    },
    {
      "cell_type": "markdown",
      "metadata": {
        "id": "xhNWIwBL1W4Q"
      },
      "source": [
        "#### ❓ Question #2:\n",
        "\n",
        "Is there any specific limit to how many times we can cycle?\n",
        "\n",
        "There are no specific limits on the number of cycles.\n",
        "\n",
        "If not, how could we impose a limit to the number of cycles?\n",
        "\n",
        "We can apply limits to the number of cycles using the max iterations parameter: max_iterations=3\n",
        "Or we can apply limits to the length of execution time through the max execution time parameter: max_execution_time=10\n",
        "\n"
      ]
    },
    {
      "cell_type": "markdown",
      "metadata": {
        "id": "VEYcTShCsPaa"
      },
      "source": [
        "## Using Our Graph\n",
        "\n",
        "Now that we've created and compiled our graph - we can call it *just as we'd call any other* `Runnable`!\n",
        "\n",
        "Let's try out a few examples to see how it fairs:"
      ]
    },
    {
      "cell_type": "code",
      "execution_count": 15,
      "metadata": {
        "colab": {
          "base_uri": "https://localhost:8080/"
        },
        "id": "Qn4n37PQRPII",
        "outputId": "a5d7ef7a-13f2-4066-df52-b0df89eae2ae"
      },
      "outputs": [
        {
          "name": "stdout",
          "output_type": "stream",
          "text": [
            "Receiving update from node: 'agent'\n",
            "[AIMessage(content='', additional_kwargs={'tool_calls': [{'id': 'call_r260GXGX33i5ILriqwztw8jZ', 'function': {'arguments': '{\"query\":\"current captain of the Winnipeg Jets 2023\"}', 'name': 'duckduckgo_search'}, 'type': 'function'}], 'refusal': None}, response_metadata={'token_usage': {'completion_tokens': 25, 'prompt_tokens': 156, 'total_tokens': 181}, 'model_name': 'gpt-4o-2024-05-13', 'system_fingerprint': 'fp_157b3831f5', 'finish_reason': 'tool_calls', 'logprobs': None}, id='run-d67e0b5d-1ea9-4909-9142-7098ff77cf95-0', tool_calls=[{'name': 'duckduckgo_search', 'args': {'query': 'current captain of the Winnipeg Jets 2023'}, 'id': 'call_r260GXGX33i5ILriqwztw8jZ', 'type': 'tool_call'}], usage_metadata={'input_tokens': 156, 'output_tokens': 25, 'total_tokens': 181})]\n",
            "\n",
            "\n",
            "\n",
            "Receiving update from node: 'action'\n",
            "[ToolMessage(content=\"Lowry, 30, fills the vacancy left for the past season after the Jets stripped previous captain Blake Wheeler of the role going into the 2022-23 season. Wheeler had been the captain for six seasons before that, first being given the role in the 2016-17 season. The Winnipeg Jets finally get to name a home grown captain. For an ownership group such as True North Sports Entertainment that values loyalty as much as they do that also operates in non-marquee market, naming a home grown captain is a banner moment. This franchise has always held strong with their draft and development mantra, and having a ... He's also been the Jets' leading scorer in two of the past three seasons, and while someone like Mark Scheifele could challenge for that title, it seems likely that Connor's past successes ... The Winnipeg Jets made a very interesting captain choice ahead of the 2023-24 season. ... Knights in Game Two of the First Round of the 2023 Stanley Cup Playoffs at T-Mobile Arena on April 20 ... Adam Lowry plays a pivotal role on the Jets, and especially in the locker room. The veteran Winnipeg forward served his first season as captain of the team in 2023-24. His counting stats certainly ...\", name='duckduckgo_search', tool_call_id='call_r260GXGX33i5ILriqwztw8jZ')]\n",
            "\n",
            "\n",
            "\n",
            "Receiving update from node: 'agent'\n",
            "[AIMessage(content='The current captain of the Winnipeg Jets is Adam Lowry. He was named captain ahead of the 2023-24 season.', additional_kwargs={'refusal': None}, response_metadata={'token_usage': {'completion_tokens': 27, 'prompt_tokens': 445, 'total_tokens': 472}, 'model_name': 'gpt-4o-2024-05-13', 'system_fingerprint': 'fp_157b3831f5', 'finish_reason': 'stop', 'logprobs': None}, id='run-e47c42ed-3a25-4302-b151-8b566e500697-0', usage_metadata={'input_tokens': 445, 'output_tokens': 27, 'total_tokens': 472})]\n",
            "\n",
            "\n",
            "\n"
          ]
        }
      ],
      "source": [
        "from langchain_core.messages import HumanMessage\n",
        "\n",
        "inputs = {\"messages\" : [HumanMessage(content=\"Who is the current captain of the Winnipeg Jets?\")]}\n",
        "\n",
        "async for chunk in compiled_graph.astream(inputs, stream_mode=\"updates\"):\n",
        "    for node, values in chunk.items():\n",
        "        print(f\"Receiving update from node: '{node}'\")\n",
        "        print(values[\"messages\"])\n",
        "        print(\"\\n\\n\")"
      ]
    },
    {
      "cell_type": "markdown",
      "metadata": {
        "id": "DBHnUtLSscRr"
      },
      "source": [
        "Let's look at what happened:\n",
        "\n",
        "1. Our state object was populated with our request\n",
        "2. The state object was passed into our entry point (agent node) and the agent node added an `AIMessage` to the state object and passed it along the conditional edge\n",
        "3. The conditional edge received the state object, found the \"tool_calls\" `additional_kwarg`, and sent the state object to the action node\n",
        "4. The action node added the response from the OpenAI function calling endpoint to the state object and passed it along the edge to the agent node\n",
        "5. The agent node added a response to the state object and passed it along the conditional edge\n",
        "6. The conditional edge received the state object, could not find the \"tool_calls\" `additional_kwarg` and passed the state object to END where we see it output in the cell above!\n",
        "\n",
        "Now let's look at an example that shows a multiple tool usage - all with the same flow!"
      ]
    },
    {
      "cell_type": "code",
      "execution_count": 16,
      "metadata": {
        "colab": {
          "base_uri": "https://localhost:8080/"
        },
        "id": "afv2BuEsV5JG",
        "outputId": "026a3aa3-1c3e-4016-b0a3-fe98b1d25399"
      },
      "outputs": [
        {
          "name": "stdout",
          "output_type": "stream",
          "text": [
            "Receiving update from node: 'agent'\n",
            "[AIMessage(content='', additional_kwargs={'tool_calls': [{'id': 'call_rAwxO3nRHRlVAj4M33Of7plu', 'function': {'arguments': '{\"query\": \"QLoRA\"}', 'name': 'arxiv'}, 'type': 'function'}, {'id': 'call_PWtNI5odV5kuVthwA9Suz5tj', 'function': {'arguments': '{\"query\": \"QLoRA paper authors\"}', 'name': 'duckduckgo_search'}, 'type': 'function'}], 'refusal': None}, response_metadata={'token_usage': {'completion_tokens': 53, 'prompt_tokens': 173, 'total_tokens': 226}, 'model_name': 'gpt-4o-2024-05-13', 'system_fingerprint': 'fp_157b3831f5', 'finish_reason': 'tool_calls', 'logprobs': None}, id='run-911c2a28-a9d8-40ff-8a01-cfa5075ba41c-0', tool_calls=[{'name': 'arxiv', 'args': {'query': 'QLoRA'}, 'id': 'call_rAwxO3nRHRlVAj4M33Of7plu', 'type': 'tool_call'}, {'name': 'duckduckgo_search', 'args': {'query': 'QLoRA paper authors'}, 'id': 'call_PWtNI5odV5kuVthwA9Suz5tj', 'type': 'tool_call'}], usage_metadata={'input_tokens': 173, 'output_tokens': 53, 'total_tokens': 226})]\n",
            "\n",
            "\n",
            "\n",
            "Receiving update from node: 'action'\n",
            "Tool Used: arxiv\n",
            "[ToolMessage(content='Published: 2023-05-23\\nTitle: QLoRA: Efficient Finetuning of Quantized LLMs\\nAuthors: Tim Dettmers, Artidoro Pagnoni, Ari Holtzman, Luke Zettlemoyer\\nSummary: We present QLoRA, an efficient finetuning approach that reduces memory usage\\nenough to finetune a 65B parameter model on a single 48GB GPU while preserving\\nfull 16-bit finetuning task performance. QLoRA backpropagates gradients through\\na frozen, 4-bit quantized pretrained language model into Low Rank\\nAdapters~(LoRA). Our best model family, which we name Guanaco, outperforms all\\nprevious openly released models on the Vicuna benchmark, reaching 99.3% of the\\nperformance level of ChatGPT while only requiring 24 hours of finetuning on a\\nsingle GPU. QLoRA introduces a number of innovations to save memory without\\nsacrificing performance: (a) 4-bit NormalFloat (NF4), a new data type that is\\ninformation theoretically optimal for normally distributed weights (b) double\\nquantization to reduce the average memory footprint by quantizing the\\nquantization constants, and (c) paged optimziers to manage memory spikes. We\\nuse QLoRA to finetune more than 1,000 models, providing a detailed analysis of\\ninstruction following and chatbot performance across 8 instruction datasets,\\nmultiple model types (LLaMA, T5), and model scales that would be infeasible to\\nrun with regular finetuning (e.g. 33B and 65B parameter models). Our results\\nshow that QLoRA finetuning on a small high-quality dataset leads to\\nstate-of-the-art results, even when using smaller models than the previous\\nSoTA. We provide a detailed analysis of chatbot performance based on both human\\nand GPT-4 evaluations showing that GPT-4 evaluations are a cheap and reasonable\\nalternative to human evaluation. Furthermore, we find that current chatbot\\nbenchmarks are not trustworthy to accurately evaluate the performance levels of\\nchatbots. A lemon-picked analysis demonstrates where Guanaco fails compared to\\nChatGPT. We release all of our models and code, including CUDA kernels for\\n4-bit training.\\n\\nPublished: 2024-05-27\\nTitle: Accurate LoRA-Finetuning Quantization of LLMs via Information Retention\\nAuthors: Haotong Qin, Xudong Ma, Xingyu Zheng, Xiaoyang Li, Yang Zhang, Shouda Liu, Jie Luo, Xianglong Liu, Michele Magno\\nSummary: The LoRA-finetuning quantization of LLMs has been extensively studied to\\nobtain accurate yet compact LLMs for deployment on resource-constrained\\nhardware. However, existing methods cause the quantized LLM to severely degrade\\nand even fail to benefit from the finetuning of LoRA. This paper proposes a\\nnovel IR-QLoRA for pushing quantized LLMs with LoRA to be highly accurate\\nthrough information retention. The proposed IR-QLoRA mainly relies on two\\ntechnologies derived from the perspective of unified information: (1)\\nstatistics-based Information Calibration Quantization allows the quantized\\nparameters of LLM to retain original information accurately; (2)\\nfinetuning-based Information Elastic Connection makes LoRA utilizes elastic\\nrepresentation transformation with diverse information. Comprehensive\\nexperiments show that IR-QLoRA can significantly improve accuracy across LLaMA\\nand LLaMA2 families under 2-4 bit-widths, e.g., 4- bit LLaMA-7B achieves 1.4%\\nimprovement on MMLU compared with the state-of-the-art methods. The significant\\nperformance gain requires only a tiny 0.31% additional time consumption,\\nrevealing the satisfactory efficiency of our IR-QLoRA. We highlight that\\nIR-QLoRA enjoys excellent versatility, compatible with various frameworks\\n(e.g., NormalFloat and Integer quantization) and brings general accuracy gains.\\nThe code is available at https://github.com/htqin/ir-qlora.\\n\\nPublished: 2024-06-12\\nTitle: Exploring Fact Memorization and Style Imitation in LLMs Using QLoRA: An Experimental Study and Quality Assessment Methods\\nAuthors: Eugene Vyborov, Oleksiy Osypenko, Serge Sotnyk\\nSummary: There are various methods for adapting LLMs to different domains. The most\\ncommon methods are prompting, finetuning, and RAG. In this w', name='arxiv', tool_call_id='call_rAwxO3nRHRlVAj4M33Of7plu'), ToolMessage(content=\"We present LongQLoRA, an efficient and effective method to extend context length of large language models with less training resources. LongQLoRA combines the advantages of Position Interpolation, QLoRA and Shift Short Attention of LongLoRA. With a single 32GB V100 GPU, LongQLoRA can extend the context length of LLaMA2 7B and 13B from 4096 to 8192 and even to 12k within 1000 finetuning steps ... The authors of the QLoRA paper created an information-theoretically optimal quantization data type for normally distributed data that yields better empirical results than 4-bit Integers and 4-bit Floats. View a PDF of the paper titled Bailong: Bilingual Transfer Learning based on QLoRA and Zip-tie Embedding, by Lung-Chuan Chen and Zong-Ru Li QLORA: efficient finetuning of quantized LLMs AUTHORs: Tim Dettmers, Artidoro Pagnoni, Ari Holtzman, Luke Zettlemoyer Authors Info & Claims NIPS '23: Proceedings of the 37th International Conference on Neural Information Processing Systems Article No.: 441, Pages 10088 - 10115 Published: 30 May 2024 Publication History 0 Publisher Site QLoRA QLoRA (or Quantized Low-Rank Adaptation) combines 4 ingredients to get the most out of a machine's limited memory without sacrificing model performance. I will briefly summarize key points from each. More details are available in the QLoRA paper [4].\", name='duckduckgo_search', tool_call_id='call_PWtNI5odV5kuVthwA9Suz5tj')]\n",
            "\n",
            "\n",
            "\n",
            "Receiving update from node: 'agent'\n",
            "[AIMessage(content='', additional_kwargs={'tool_calls': [{'id': 'call_xAkY6lqjrvoo5h7gXgmnZAAa', 'function': {'arguments': '{\"query\": \"Tim Dettmers latest Tweet\"}', 'name': 'duckduckgo_search'}, 'type': 'function'}, {'id': 'call_U3ASoBkWWUg40NydY0hPtNrt', 'function': {'arguments': '{\"query\": \"Artidoro Pagnoni latest Tweet\"}', 'name': 'duckduckgo_search'}, 'type': 'function'}, {'id': 'call_Ggs45GwKzW11kN7huepEIgGt', 'function': {'arguments': '{\"query\": \"Ari Holtzman latest Tweet\"}', 'name': 'duckduckgo_search'}, 'type': 'function'}, {'id': 'call_WV3JMC6t3R2kVeSeU1gFzdYh', 'function': {'arguments': '{\"query\": \"Luke Zettlemoyer latest Tweet\"}', 'name': 'duckduckgo_search'}, 'type': 'function'}], 'refusal': None}, response_metadata={'token_usage': {'completion_tokens': 108, 'prompt_tokens': 1532, 'total_tokens': 1640}, 'model_name': 'gpt-4o-2024-05-13', 'system_fingerprint': 'fp_157b3831f5', 'finish_reason': 'tool_calls', 'logprobs': None}, id='run-f7163b3f-b8b5-47ad-a005-9e39b3ee078f-0', tool_calls=[{'name': 'duckduckgo_search', 'args': {'query': 'Tim Dettmers latest Tweet'}, 'id': 'call_xAkY6lqjrvoo5h7gXgmnZAAa', 'type': 'tool_call'}, {'name': 'duckduckgo_search', 'args': {'query': 'Artidoro Pagnoni latest Tweet'}, 'id': 'call_U3ASoBkWWUg40NydY0hPtNrt', 'type': 'tool_call'}, {'name': 'duckduckgo_search', 'args': {'query': 'Ari Holtzman latest Tweet'}, 'id': 'call_Ggs45GwKzW11kN7huepEIgGt', 'type': 'tool_call'}, {'name': 'duckduckgo_search', 'args': {'query': 'Luke Zettlemoyer latest Tweet'}, 'id': 'call_WV3JMC6t3R2kVeSeU1gFzdYh', 'type': 'tool_call'}], usage_metadata={'input_tokens': 1532, 'output_tokens': 108, 'total_tokens': 1640})]\n",
            "\n",
            "\n",
            "\n",
            "Receiving update from node: 'action'\n",
            "Tool Used: duckduckgo_search\n",
            "[ToolMessage(content=\"Kamala Harris and Tim Walz sat for a joint interview on Thursday — their first since Joe Biden dropped out of the race. ... asking about her past embrace of the Green New Deal and her support in ... Vice President Kamala Harris on Thursday offered her most expansive explanation to date on why she's changed some of her positions on fracking and immigration, telling CNN's Dana Bash her ... Ann Coulter is facing the wrath of social media after posting — then deleting — a tweet about Tim Walz's son, Gus. Following the third night of the 2024 Democratic National Convention, the ... (WHTM) — Most thought it was a touching moment at the DNC when Tim Walz's son Gus professed his love for his dad, but not one Pennsylvania lawmaker. However, the sweetness turned sour on ... Ann Coulter deletes post mocking Tim Walz's son after onslaught of criticism. The 17-year-old was filmed in the family box at the Democratic National Convention, crying with pride and calling ...\", name='duckduckgo_search', tool_call_id='call_xAkY6lqjrvoo5h7gXgmnZAAa'), ToolMessage(content=\"We present QLoRA, an efficient finetuning approach that reduces memory usage enough to finetune a 65B parameter model on a single 48GB GPU while preserving full 16-bit finetuning task performance. QLoRA backpropagates gradients through a frozen, 4-bit quantized pretrained language model into Low Rank Adapters~(LoRA). Our best model family, which we name Guanaco, outperforms all previous openly ... efficient finetuning of quantized LLMs. AUTHORs: Tim Dettmers, Artidoro Pagnoni, Ari Holtzman, Luke Zettlemoyer Authors Info & Claims. NIPS '23: Proceedings of the 37th International Conference on Neural Information Processing Systems. Article No.: 441, Pages 10088 - 10115. Published: 30 May 2024 Publication History. Post-Training Quantization (PTQ) enhances the efficiency of Large Language Models (LLMs) by enabling faster operation and compatibility with more accessible hardware through reduced memory usage, at the cost of small performance drops. We explore the role of calibration sets in PTQ, specifically their effect on hidden activations in various ... Pagnoni et al. (2021) Artidoro Pagnoni, Vidhisha Balachandran, and Yulia Tsvetkov. 2021. Understanding factuality in abstractive summarization with FRANK: A benchmark for factuality metrics . In Proceedings of the 2021 Conference of the North American Chapter of the Association for Computational Linguistics: Human Language Technologies , pages ... Fine-tuning large language models (LLMs) is a common practice to adapt them for specific tasks, but it can be computationally expensive. LoRA (Low-Rank Adaptation) is a technique that makes this process more efficient by introducing small adapter modules to the model. These adapters capture task-specific knowledge without modifying the original ...\", name='duckduckgo_search', tool_call_id='call_U3ASoBkWWUg40NydY0hPtNrt'), ToolMessage(content='The heated on-air dispute last night between MSNBC\\'s Ari Melber and Donald Trump campaign adviser Corey Lewandowski didn\\'t end with Wednesday\\'s segment: Today, Lewandowski tweeted a video in ... Ari Melber warns Trump campaign advisor Corey Lewandowski he \\'will be potentially in a defamation situation\\' on Wednesday\\'s episode of The Beat (MSNBC) \"I did not say that. That is a false ... MSNBC host Ari Melber, during an interview with Trump campaign adviser Corey Lewandowski on Wednesday, threatened him with a defamation lawsuit for quoting the anchor calling the former President ... Summary of \"Generative Models as a Complex Systems Science: How can we make sense of large language model behavior?\" by Ari Holtzman et al. Abstract. The paper explores how coaxing desired behaviors from pretrained models has shifted NLP from a scientific engineering discipline to a complex systems science. The authors emphasize the need for a ... While in Mumbai, Ari would stay at the Holtzman\\'s home each evening. \"Their house was like a second home to me,\" explains Ari, who has travelled to India forty times. The last time that Ari was at the Holtzman\\'s Chabad House was two months ago, where he stayed for a week and participated in prayers and Torah lectures given by Rabbi ...', name='duckduckgo_search', tool_call_id='call_Ggs45GwKzW11kN7huepEIgGt'), ToolMessage(content=\"Error: RatelimitException('https://duckduckgo.com 202 Ratelimit')\\n Please fix your mistakes.\", name='duckduckgo_search', tool_call_id='call_WV3JMC6t3R2kVeSeU1gFzdYh')]\n",
            "\n",
            "\n",
            "\n",
            "Receiving update from node: 'agent'\n",
            "[AIMessage(content=\"Here are the details I found:\\n\\n### QLoRA Paper\\n- **Title:** QLoRA: Efficient Finetuning of Quantized LLMs\\n- **Authors:** Tim Dettmers, Artidoro Pagnoni, Ari Holtzman, Luke Zettlemoyer\\n- **Summary:** QLoRA is an efficient finetuning approach that reduces memory usage enough to finetune a 65B parameter model on a single 48GB GPU while preserving full 16-bit finetuning task performance. It introduces several innovations to save memory without sacrificing performance, such as 4-bit NormalFloat (NF4), double quantization, and paged optimizers. The best model family, Guanaco, outperforms previous models on the Vicuna benchmark, reaching 99.3% of ChatGPT's performance level with only 24 hours of finetuning on a single GPU.\\n\\n### Latest Tweets of Authors\\n1. **Tim Dettmers**\\n   - No specific latest tweet found. The search results were more general and did not provide a direct link to his latest tweet.\\n\\n2. **Artidoro Pagnoni**\\n   - No specific latest tweet found. The search results were more general and did not provide a direct link to his latest tweet.\\n\\n3. **Ari Holtzman**\\n   - No specific latest tweet found. The search results were more general and did not provide a direct link to his latest tweet.\\n\\n4. **Luke Zettlemoyer**\\n   - The search for Luke Zettlemoyer's latest tweet hit a rate limit error on DuckDuckGo.\\n\\nFor more precise and up-to-date information, you might want to directly check their Twitter profiles or use a dedicated Twitter search tool.\", additional_kwargs={'refusal': None}, response_metadata={'token_usage': {'completion_tokens': 354, 'prompt_tokens': 2557, 'total_tokens': 2911}, 'model_name': 'gpt-4o-2024-05-13', 'system_fingerprint': 'fp_157b3831f5', 'finish_reason': 'stop', 'logprobs': None}, id='run-0b050f1e-3889-4c3b-a8ff-c8e6c343ddcd-0', usage_metadata={'input_tokens': 2557, 'output_tokens': 354, 'total_tokens': 2911})]\n",
            "\n",
            "\n",
            "\n"
          ]
        }
      ],
      "source": [
        "inputs = {\"messages\" : [HumanMessage(content=\"Search Arxiv for the QLoRA paper, then search each of the authors to find out their latest Tweet using DuckDuckGo.\")]}\n",
        "\n",
        "async for chunk in compiled_graph.astream(inputs, stream_mode=\"updates\"):\n",
        "    for node, values in chunk.items():\n",
        "        print(f\"Receiving update from node: '{node}'\")\n",
        "        if node == \"action\":\n",
        "          print(f\"Tool Used: {values['messages'][0].name}\")\n",
        "        print(values[\"messages\"])\n",
        "\n",
        "        print(\"\\n\\n\")"
      ]
    },
    {
      "cell_type": "markdown",
      "metadata": {
        "id": "CXzDlZVz1Hnf"
      },
      "source": [
        "####🏗️ Activity #2:\n",
        "\n",
        "Please write out the steps the agent took to arrive at the correct answer.\n",
        "\n",
        "1) The agent received the prompt\n",
        "2) Agent determined that it should use the Arxiv tool with the QLoRA as the query text, \n",
        "3) The agent used the action node to receive information from the Arxiv tool on the paper in question\n",
        "4) The agent determined based on the action information that it should search for Tim Dettmer, an author of the paper's, most recent tweet\n",
        "5) The agent used the action node to actually search for and receive the information from DuckDuckGo\n",
        "6) The agent produced a respose using all the information from the conversation so far\n",
        "\n"
      ]
    },
    {
      "cell_type": "markdown",
      "metadata": {
        "id": "v7c8-Uyarh1v"
      },
      "source": [
        "## Part 1: LangSmith Evaluator"
      ]
    },
    {
      "cell_type": "markdown",
      "metadata": {
        "id": "pV3XeFOT1Sar"
      },
      "source": [
        "### Pre-processing for LangSmith"
      ]
    },
    {
      "cell_type": "markdown",
      "metadata": {
        "id": "wruQCuzewUuO"
      },
      "source": [
        "To do a little bit more preprocessing, let's wrap our LangGraph agent in a simple chain."
      ]
    },
    {
      "cell_type": "code",
      "execution_count": 17,
      "metadata": {
        "id": "oeXdQgbxwhTv"
      },
      "outputs": [],
      "source": [
        "def convert_inputs(input_object):\n",
        "  return {\"messages\" : [HumanMessage(content=input_object[\"question\"])]}\n",
        "\n",
        "def parse_output(input_state):\n",
        "  return input_state[\"messages\"][-1].content\n",
        "\n",
        "agent_chain = convert_inputs | compiled_graph | parse_output"
      ]
    },
    {
      "cell_type": "code",
      "execution_count": 18,
      "metadata": {
        "colab": {
          "base_uri": "https://localhost:8080/",
          "height": 139
        },
        "id": "orYxBZXSxJjZ",
        "outputId": "b160f3e4-89d1-4411-ed96-fe17b3cad200"
      },
      "outputs": [
        {
          "data": {
            "text/plain": [
              "\"RAG stands for Retrieval-Augmented Generation. It is a technique used in natural language processing (NLP) and machine learning to improve the performance of language models by combining retrieval-based methods with generative models. Here's a brief overview of how it works:\\n\\n1. **Retrieval**: In the first step, the system retrieves relevant documents or pieces of information from a large corpus or database. This is typically done using a retrieval model, such as BM25 or a dense retrieval model like DPR (Dense Passage Retrieval).\\n\\n2. **Augmentation**: The retrieved documents are then used to augment the input to the generative model. This means that the generative model has access to additional context or information that can help it produce more accurate and relevant responses.\\n\\n3. **Generation**: Finally, the generative model, such as GPT-3 or BERT, uses the augmented input to generate a response. The additional context provided by the retrieved documents helps the model generate more informed and contextually appropriate responses.\\n\\nRAG is particularly useful in scenarios where the generative model alone might not have enough information to produce a high-quality response, such as in open-domain question answering or conversational AI. By leveraging external knowledge sources through retrieval, RAG can significantly enhance the performance and accuracy of language models.\""
            ]
          },
          "execution_count": 18,
          "metadata": {},
          "output_type": "execute_result"
        }
      ],
      "source": [
        "agent_chain.invoke({\"question\" : \"What is RAG?\"})"
      ]
    },
    {
      "cell_type": "markdown",
      "metadata": {
        "id": "f9UkCIqkpyZu"
      },
      "source": [
        "### Task 1: Creating An Evaluation Dataset\n",
        "\n",
        "Just as we saw last week, we'll want to create a dataset to test our Agent's ability to answer questions.\n",
        "\n",
        "In order to do this - we'll want to provide some questions and some answers. Let's look at how we can create such a dataset below.\n",
        "\n",
        "```python\n",
        "questions = [\n",
        "    \"What optimizer is used in QLoRA?\",\n",
        "    \"What data type was created in the QLoRA paper?\",\n",
        "    \"What is a Retrieval Augmented Generation system?\",\n",
        "    \"Who authored the QLoRA paper?\",\n",
        "    \"What is the most popular deep learning framework?\",\n",
        "    \"What significant improvements does the LoRA system make?\"\n",
        "]\n",
        "\n",
        "answers = [\n",
        "    {\"must_mention\" : [\"paged\", \"optimizer\"]},\n",
        "    {\"must_mention\" : [\"NF4\", \"NormalFloat\"]},\n",
        "    {\"must_mention\" : [\"ground\", \"context\"]},\n",
        "    {\"must_mention\" : [\"Tim\", \"Dettmers\"]},\n",
        "    {\"must_mention\" : [\"PyTorch\", \"TensorFlow\"]},\n",
        "    {\"must_mention\" : [\"reduce\", \"parameters\"]},\n",
        "]\n",
        "```"
      ]
    },
    {
      "cell_type": "markdown",
      "metadata": {
        "id": "VfMXF2KAsQxs"
      },
      "source": [
        "####🏗️ Activity #3:\n",
        "\n",
        "Please create a dataset in the above format with at least 5 questions."
      ]
    },
    {
      "cell_type": "code",
      "execution_count": 19,
      "metadata": {
        "id": "CbagRuJop83E"
      },
      "outputs": [],
      "source": [
        "questions = [\n",
        "    \"What optimizer is used in QLoRA?\",\n",
        "    \"What data type was created in the QLoRA paper?\",\n",
        "    \"What is a Retrieval Augmented Generation system?\",\n",
        "    \"Who authored the QLoRA paper?\",\n",
        "    \"What is the most popular deep learning framework?\",\n",
        "    \"What significant improvements does the LoRA system make?\",\n",
        "    \"What is the main objective of transfer learning?\",\n",
        "    \"What are the advantages of using convolutional neural networks?\",\n",
        "    \"What is the difference between supervised and unsupervised learning?\"\n",
        "]\n",
        "\n",
        "answers = [\n",
        "    {\"must_mention\" : [\"paged\", \"optimizer\"]},\n",
        "    {\"must_mention\" : [\"NF4\", \"NormalFloat\"]},\n",
        "    {\"must_mention\" : [\"ground\", \"context\"]},\n",
        "    {\"must_mention\" : [\"Tim\", \"Dettmers\"]},\n",
        "    {\"must_mention\" : [\"PyTorch\", \"TensorFlow\"]},\n",
        "    {\"must_mention\" : [\"reduce\", \"parameters\"]},\n",
        "    {\"must_mention\" : [\"knowledge\", \"transfer\"]},\n",
        "    {\"must_mention\" : [\"feature\", \"extraction\"]},\n",
        "    {\"must_mention\" : [\"labeled\", \"data\"]}\n",
        "]"
      ]
    },
    {
      "cell_type": "markdown",
      "metadata": {
        "id": "z7QVFuAmsh7L"
      },
      "source": [
        "Now we can add our dataset to our LangSmith project using the following code which we saw last Thursday!"
      ]
    },
    {
      "cell_type": "code",
      "execution_count": 20,
      "metadata": {
        "id": "RLfrZrgSsn85"
      },
      "outputs": [],
      "source": [
        "from langsmith import Client\n",
        "\n",
        "client = Client()\n",
        "dataset_name = f\"Retrieval Augmented Generation - Evaluation Dataset - {uuid4().hex[0:8]}\"\n",
        "\n",
        "dataset = client.create_dataset(\n",
        "    dataset_name=dataset_name,\n",
        "    description=\"Questions about the QLoRA Paper to Evaluate RAG over the same paper.\"\n",
        ")\n",
        "\n",
        "client.create_examples(\n",
        "    inputs=[{\"question\" : q} for q in questions],\n",
        "    outputs=answers,\n",
        "    dataset_id=dataset.id,\n",
        ")"
      ]
    },
    {
      "cell_type": "markdown",
      "metadata": {
        "id": "ciV73F9Q04w0"
      },
      "source": [
        "#### ❓ Question #3:\n",
        "\n",
        "How are the correct answers associated with the questions?\n",
        "\n",
        "They are currently associated as ordered lists. \n",
        "\n",
        "Using an ordered list to associate the correct answers with the questions can be problematic for a few reasons:\n",
        "\n",
        "1. Fragility: If the order of the questions or answers changes, the association between them will be lost. This can lead to incorrect mappings and confusion.\n",
        "\n",
        "2. Scalability: As the number of questions and answers grows, managing and updating the ordered list becomes more challenging. It can become difficult to maintain the correct order and ensure consistency.\n",
        "\n",
        "3. Flexibility: An ordered list does not provide a flexible structure for associating additional information or metadata with the questions and answers. It may limit the ability to expand or modify the data structure in the future.\n",
        "\n",
        "To overcome these limitations, it is recommended to use a more robust data structure, such as a dictionary or a database, where each question is associated with its corresponding answer using a unique identifier or key. This allows for easier management, scalability, and flexibility in handling the data.\n",
        "\n",
        "\n",
        "```python\n",
        "# Assuming 'questions' and 'answers' are defined as lists\n",
        "question_answer_mapping = {question: answer for question, answer in zip(questions, answers)}\n",
        "```\n",
        "\n",
        "This code creates a dictionary `question_answer_mapping` where each question is associated with its corresponding answer using a dictionary comprehension.\n"
      ]
    },
    {
      "cell_type": "markdown",
      "metadata": {
        "id": "-lRTXUrTtP9Y"
      },
      "source": [
        "### Task 2: Adding Evaluators\n",
        "\n",
        "Now we can add a custom evaluator to see if our responses contain the expected information.\n",
        "\n",
        "We'll be using a fairly naive exact-match process to determine if our response contains specific strings."
      ]
    },
    {
      "cell_type": "code",
      "execution_count": 21,
      "metadata": {
        "id": "QrAUXMFftlAY"
      },
      "outputs": [],
      "source": [
        "from langsmith.evaluation import EvaluationResult, run_evaluator\n",
        "\n",
        "@run_evaluator\n",
        "def must_mention(run, example) -> EvaluationResult:\n",
        "    prediction = run.outputs.get(\"output\") or \"\"\n",
        "    required = example.outputs.get(\"must_mention\") or []\n",
        "    score = all(phrase in prediction for phrase in required)\n",
        "    return EvaluationResult(key=\"must_mention\", score=score)"
      ]
    },
    {
      "cell_type": "markdown",
      "metadata": {
        "id": "PNtHORUh0jZY"
      },
      "source": [
        "#### ❓ Question #4:\n",
        "\n",
        "What are some ways you could improve this metric as-is?\n",
        "There are several ways we could improve the custom langchain evaluator in the code block above. Here are a few suggestions:\n",
        "\n",
        "1.Add more evaluators: Currently, the code only includes one custom evaluator called `must_mention`. We could add additional evaluators to assess different aspects of the response, such as relevance, coherence, or accuracy.\n",
        "\n",
        "2.Implement a scoring system: Instead of a simple binary evaluation (e.g., \"Y\" for helpful and \"N\" for unhelpful), we could implement a scoring system that assigns a numerical value to the helpfulness of the response based on the inclusion of these phrases. This would provide more nuanced feedback and allow for more detailed analysis.\n"
      ]
    },
    {
      "cell_type": "markdown",
      "metadata": {
        "id": "mZ4DVSXl0BX5"
      },
      "source": [
        "Now that we have created our custom evaluator - let's initialize our `RunEvalConfig` with it!"
      ]
    },
    {
      "cell_type": "code",
      "execution_count": 23,
      "metadata": {
        "id": "sL4-XcjytWsu"
      },
      "outputs": [],
      "source": [
        "from langchain.smith import RunEvalConfig, run_on_dataset\n",
        "\n",
        "eval_config = RunEvalConfig(\n",
        "    custom_evaluators=[must_mention],\n",
        ")"
      ]
    },
    {
      "cell_type": "markdown",
      "metadata": {
        "id": "r1RJr349zhv7"
      },
      "source": [
        "Task 3: Evaluating\n",
        "\n",
        "All that is left to do is evaluate our agent's response!"
      ]
    },
    {
      "cell_type": "code",
      "execution_count": 24,
      "metadata": {
        "colab": {
          "base_uri": "https://localhost:8080/"
        },
        "id": "p5TeCUUkuGld",
        "outputId": "8b98fff1-bd75-4dbe-cadc-a76d8a82577c"
      },
      "outputs": [
        {
          "name": "stdout",
          "output_type": "stream",
          "text": [
            "View the evaluation results for project 'RAG Pipeline - Evaluation - 72ce913a' at:\n",
            "https://smith.langchain.com/o/c386a93c-c862-537f-ab37-bdd026146571/datasets/6de6e1ef-ca5d-4341-bb12-5514146879d0/compare?selectedSessions=d1f09456-4567-4381-9605-e52796e48d06\n",
            "\n",
            "View all tests for Dataset Retrieval Augmented Generation - Evaluation Dataset - 2d060328 at:\n",
            "https://smith.langchain.com/o/c386a93c-c862-537f-ab37-bdd026146571/datasets/6de6e1ef-ca5d-4341-bb12-5514146879d0\n",
            "[------------------------------------------------->] 9/9"
          ]
        },
        {
          "data": {
            "text/plain": [
              "{'project_name': 'RAG Pipeline - Evaluation - 72ce913a',\n",
              " 'results': {'5e72041c-307c-47b9-8f6e-be5edac1aee8': {'input': {'question': 'What optimizer is used in QLoRA?'},\n",
              "   'feedback': [EvaluationResult(key='must_mention', score=True, value=None, comment=None, correction=None, evaluator_info={}, feedback_config=None, source_run_id=UUID('1d6b6cc8-ac84-4f91-aee4-4f895d0e1190'), target_run_id=None)],\n",
              "   'execution_time': 4.379748,\n",
              "   'run_id': '91b39788-b86b-400c-9ee3-15dac560b0a8',\n",
              "   'output': 'QLoRA (Quantized Low-Rank Adaptation) uses a combination of several innovations to optimize memory usage and performance during fine-tuning of large language models. One of the key components mentioned is the use of \"paged optimizers\" to manage memory spikes. This involves moving pages of optimizer states to the CPU and back to the GPU as needed, which helps in handling intermittent memory spikes during training.\\n\\nIn summary, QLoRA employs paged optimizers as part of its strategy to efficiently manage memory and optimize the fine-tuning process.',\n",
              "   'reference': {'must_mention': ['paged', 'optimizer']}},\n",
              "  '6e3c32a5-5fef-49e5-9940-6738ed4d5b0b': {'input': {'question': 'What data type was created in the QLoRA paper?'},\n",
              "   'feedback': [EvaluationResult(key='must_mention', score=True, value=None, comment=None, correction=None, evaluator_info={}, feedback_config=None, source_run_id=UUID('02e8e8f2-3c59-4a59-a161-09ff6c23b6d0'), target_run_id=None)],\n",
              "   'execution_time': 2.969539,\n",
              "   'run_id': 'f63e3d8f-577f-4320-acc7-040387dee583',\n",
              "   'output': 'In the QLoRA paper, the authors introduced a new data type called **4-bit NormalFloat (NF4)**. This data type is designed to be information-theoretically optimal for normally distributed weights, which helps in reducing memory usage while preserving performance during the finetuning of quantized large language models.',\n",
              "   'reference': {'must_mention': ['NF4', 'NormalFloat']}},\n",
              "  '46eadecf-8315-41a3-8d9a-b0c617f31a55': {'input': {'question': 'What is a Retrieval Augmented Generation system?'},\n",
              "   'feedback': [EvaluationResult(key='must_mention', score=True, value=None, comment=None, correction=None, evaluator_info={}, feedback_config=None, source_run_id=UUID('9e58c32f-dcad-4443-926c-819dc674b79a'), target_run_id=None)],\n",
              "   'execution_time': 8.254259,\n",
              "   'run_id': '8ba2d64d-71f3-41cf-ad80-853d545a0eb4',\n",
              "   'output': 'A Retrieval Augmented Generation (RAG) system is a type of artificial intelligence model that combines retrieval-based and generation-based approaches to improve the quality and relevance of generated responses. Here’s a breakdown of how it works:\\n\\n1. **Retrieval Component**: This part of the system retrieves relevant documents or pieces of information from a large corpus based on the input query. It uses techniques from information retrieval to find the most relevant content that can help answer the query.\\n\\n2. **Generation Component**: This part of the system generates a response based on the retrieved information. It uses techniques from natural language generation to create coherent and contextually appropriate responses.\\n\\n3. **Integration**: The retrieved information is used to inform and guide the generation process. The generation model can use the retrieved documents as context to produce more accurate and informative responses.\\n\\n### Key Benefits of RAG Systems:\\n- **Improved Accuracy**: By leveraging relevant information from a large corpus, RAG systems can provide more accurate and contextually appropriate responses.\\n- **Enhanced Knowledge**: These systems can access up-to-date information and a wide range of knowledge, making them more versatile and informative.\\n- **Contextual Relevance**: The retrieval component ensures that the generated responses are grounded in relevant and specific information, improving the overall relevance of the output.\\n\\n### Applications:\\n- **Question Answering**: RAG systems can be used to answer complex questions by retrieving relevant documents and generating precise answers.\\n- **Customer Support**: They can provide detailed and accurate responses to customer inquiries by accessing a knowledge base.\\n- **Content Creation**: These systems can assist in generating content that is informed by a large corpus of existing information, such as writing articles or reports.\\n\\nOverall, Retrieval Augmented Generation systems represent a powerful approach to combining the strengths of retrieval-based and generation-based models to produce high-quality, informative, and contextually relevant responses.',\n",
              "   'reference': {'must_mention': ['ground', 'context']}},\n",
              "  'df630a67-766b-425d-b959-3148c8b37927': {'input': {'question': 'Who authored the QLoRA paper?'},\n",
              "   'feedback': [EvaluationResult(key='must_mention', score=True, value=None, comment=None, correction=None, evaluator_info={}, feedback_config=None, source_run_id=UUID('4ec93089-9b01-43cc-b469-98a02e74f5ee'), target_run_id=None)],\n",
              "   'execution_time': 2.397157,\n",
              "   'run_id': '20da624f-fc76-4640-ae7a-8bee5dd6d69d',\n",
              "   'output': 'The QLoRA paper titled \"QLoRA: Efficient Finetuning of Quantized LLMs\" was authored by:\\n\\n- Tim Dettmers\\n- Artidoro Pagnoni\\n- Ari Holtzman\\n- Luke Zettlemoyer',\n",
              "   'reference': {'must_mention': ['Tim', 'Dettmers']}},\n",
              "  '34bd8452-efe7-4d70-a489-f35608b2281b': {'input': {'question': 'What is the most popular deep learning framework?'},\n",
              "   'feedback': [EvaluationResult(key='must_mention', score=True, value=None, comment=None, correction=None, evaluator_info={}, feedback_config=None, source_run_id=UUID('705d0c83-4350-4f18-bdcd-fd8f77013afc'), target_run_id=None)],\n",
              "   'execution_time': 5.023466,\n",
              "   'run_id': 'b7cb83f0-1552-4493-a965-40532a16c32c',\n",
              "   'output': \"The most popular deep learning frameworks as of 2023 are TensorFlow and PyTorch. TensorFlow, supported by Google, is widely used for numerical computation and deep learning, while PyTorch, developed by Facebook's AI Research lab, is also highly favored among machine learning engineers, data scientists, and researchers. Both frameworks have active communities and are extensively used in various projects.\",\n",
              "   'reference': {'must_mention': ['PyTorch', 'TensorFlow']}},\n",
              "  '0383cce1-673f-4c0f-8b1b-6ce61cef0a25': {'input': {'question': 'What significant improvements does the LoRA system make?'},\n",
              "   'feedback': [EvaluationResult(key='must_mention', score=False, value=None, comment=None, correction=None, evaluator_info={}, feedback_config=None, source_run_id=UUID('f51114a4-4dcb-4174-ad32-85f4c437a48f'), target_run_id=None)],\n",
              "   'execution_time': 6.204103,\n",
              "   'run_id': 'cd7b76be-d826-42fc-b709-0f570dccc194',\n",
              "   'output': \"LoRA, or Low-Rank Adaptation, is a technique used primarily in the field of machine learning, particularly in the context of fine-tuning large language models. Here are some significant improvements and benefits that the LoRA system offers:\\n\\n1. **Parameter Efficiency**: LoRA allows for fine-tuning of large models with a significantly smaller number of parameters. This is achieved by introducing low-rank matrices that adapt the pre-trained model weights, reducing the number of parameters that need to be updated during fine-tuning.\\n\\n2. **Reduced Computational Cost**: By reducing the number of parameters that need to be updated, LoRA decreases the computational resources required for fine-tuning. This makes it more feasible to fine-tune large models on smaller hardware setups.\\n\\n3. **Memory Efficiency**: LoRA's approach of using low-rank matrices means that less memory is required to store the fine-tuned model. This is particularly beneficial when deploying models on devices with limited memory capacity.\\n\\n4. **Faster Training**: The reduction in the number of parameters and computational cost leads to faster training times. This allows for quicker iterations and experimentation during the model development process.\\n\\n5. **Maintaining Performance**: Despite the reduction in parameters, LoRA has been shown to maintain or even improve the performance of the fine-tuned models. This is because the low-rank adaptation effectively captures the necessary adjustments without the need for a full parameter update.\\n\\n6. **Scalability**: LoRA can be applied to various types of neural networks and is not limited to a specific architecture. This makes it a versatile tool for fine-tuning different kinds of models across various tasks.\\n\\n7. **Flexibility**: LoRA can be combined with other fine-tuning techniques, providing additional flexibility in how models are adapted to new tasks or datasets.\\n\\nIf you are looking for more detailed and specific improvements or recent advancements related to LoRA, I can search for the latest research papers or articles. Would you like me to do that?\",\n",
              "   'reference': {'must_mention': ['reduce', 'parameters']}},\n",
              "  '89f82c2c-efc7-445f-bb25-1d82d9f9b3d7': {'input': {'question': 'What is the main objective of transfer learning?'},\n",
              "   'feedback': [EvaluationResult(key='must_mention', score=True, value=None, comment=None, correction=None, evaluator_info={}, feedback_config=None, source_run_id=UUID('086e493f-db73-489e-8b63-ac266869f3a6'), target_run_id=None)],\n",
              "   'execution_time': 3.464029,\n",
              "   'run_id': '47518f02-6f28-4423-adf7-e7f47f5faf50',\n",
              "   'output': 'The main objective of transfer learning is to leverage knowledge gained from one task to improve the performance on a different but related task. This approach is particularly useful when the target task has limited data, as it allows the model to benefit from the information learned from a source task with abundant data. Transfer learning aims to:\\n\\n1. **Reduce Training Time**: By starting with a pre-trained model, the amount of time and computational resources required to train a model on the target task can be significantly reduced.\\n2. **Improve Performance**: Models can achieve better performance on the target task by utilizing the knowledge acquired from the source task.\\n3. **Overcome Data Scarcity**: Transfer learning is especially beneficial when the target task has limited labeled data, as it allows the model to generalize better by leveraging the patterns learned from a larger dataset in the source task.\\n\\nIn summary, transfer learning seeks to make machine learning models more efficient and effective by reusing knowledge from related tasks.',\n",
              "   'reference': {'must_mention': ['knowledge', 'transfer']}},\n",
              "  'dff896dc-d6cf-46dd-a878-6e23b338fb31': {'input': {'question': 'What are the advantages of using convolutional neural networks?'},\n",
              "   'feedback': [EvaluationResult(key='must_mention', score=True, value=None, comment=None, correction=None, evaluator_info={}, feedback_config=None, source_run_id=UUID('9ecd8fd7-5f54-4ca1-bc92-47ba75d7c914'), target_run_id=None)],\n",
              "   'execution_time': 8.690475,\n",
              "   'run_id': 'cd267a2b-09ef-477a-9a64-a86c56ce3914',\n",
              "   'output': 'Convolutional Neural Networks (CNNs) have several advantages, particularly in the field of image and video recognition, but also in other domains such as natural language processing and time series analysis. Here are some key advantages:\\n\\n1. **Spatial Hierarchy of Features**:\\n   - CNNs are designed to recognize patterns with a hierarchical structure, starting from low-level features (like edges and textures) to high-level features (like shapes and objects). This makes them particularly effective for image and video data.\\n\\n2. **Parameter Sharing**:\\n   - Convolutional layers use the same filter (or kernel) across different parts of the input, which significantly reduces the number of parameters compared to fully connected networks. This parameter sharing helps in learning spatial hierarchies and reduces the risk of overfitting.\\n\\n3. **Translation Invariance**:\\n   - CNNs are inherently translation invariant, meaning they can recognize objects regardless of their position in the image. This is due to the nature of convolution operations and pooling layers.\\n\\n4. **Local Connectivity**:\\n   - Each neuron in a convolutional layer is connected only to a local region of the input, which makes the network more efficient and reduces the number of parameters. This local connectivity also helps in capturing local patterns effectively.\\n\\n5. **Effective Use of Data**:\\n   - CNNs can effectively use large amounts of labeled data to learn complex patterns. They are particularly good at leveraging data augmentation techniques to improve generalization.\\n\\n6. **Automatic Feature Extraction**:\\n   - Unlike traditional machine learning methods that require manual feature extraction, CNNs automatically learn the best features directly from the data. This reduces the need for domain-specific knowledge and feature engineering.\\n\\n7. **Robustness to Variations**:\\n   - CNNs are robust to variations in the input data, such as changes in lighting, scale, and rotation. This robustness is achieved through the use of convolutional and pooling layers.\\n\\n8. **Efficiency in Computation**:\\n   - Due to their architecture, CNNs are highly efficient in terms of computation. They can be easily parallelized and are well-suited for implementation on GPUs, which significantly speeds up the training process.\\n\\n9. **Versatility**:\\n   - While CNNs are most commonly used for image-related tasks, they have also been successfully applied to other types of data, such as audio, text, and time series, demonstrating their versatility.\\n\\n10. **State-of-the-Art Performance**:\\n    - CNNs have achieved state-of-the-art performance in various tasks, including image classification, object detection, and segmentation, making them a go-to choice for many computer vision applications.\\n\\nThese advantages make CNNs a powerful and popular choice for a wide range of applications in machine learning and artificial intelligence.',\n",
              "   'reference': {'must_mention': ['feature', 'extraction']}},\n",
              "  '2a041a44-d2a6-48da-afda-a3059c075452': {'input': {'question': 'What is the difference between supervised and unsupervised learning?'},\n",
              "   'feedback': [EvaluationResult(key='must_mention', score=True, value=None, comment=None, correction=None, evaluator_info={}, feedback_config=None, source_run_id=UUID('20a66dcc-c301-4a5b-9010-f88fff397b82'), target_run_id=None)],\n",
              "   'execution_time': 3.799377,\n",
              "   'run_id': 'd5afade9-1af3-467f-b093-e4e51a83a3d2',\n",
              "   'output': 'Supervised and unsupervised learning are two primary types of machine learning techniques used for different purposes. Here are the key differences between them:\\n\\n### Supervised Learning\\n1. **Definition**: Supervised learning involves training a model on a labeled dataset, which means that each training example is paired with an output label.\\n2. **Data**: Requires labeled data, where the input data is associated with the correct output.\\n3. **Objective**: The goal is to learn a mapping from inputs to outputs, so the model can predict the output for new, unseen inputs.\\n4. **Algorithms**: Common algorithms include Linear Regression, Logistic Regression, Support Vector Machines (SVM), Decision Trees, Random Forests, and Neural Networks.\\n5. **Applications**: Used in applications like classification (e.g., spam detection, image recognition) and regression (e.g., predicting house prices, stock prices).\\n\\n### Unsupervised Learning\\n1. **Definition**: Unsupervised learning involves training a model on data that does not have labeled responses. The model tries to learn the underlying structure of the data.\\n2. **Data**: Uses unlabeled data, where the model tries to identify patterns and relationships within the data.\\n3. **Objective**: The goal is to find hidden patterns or intrinsic structures in the input data.\\n4. **Algorithms**: Common algorithms include K-Means Clustering, Hierarchical Clustering, Principal Component Analysis (PCA), and Association Rules.\\n5. **Applications**: Used in applications like clustering (e.g., customer segmentation, grouping similar items), dimensionality reduction (e.g., reducing the number of features in a dataset), and anomaly detection (e.g., fraud detection).\\n\\n### Summary\\n- **Supervised Learning**: Uses labeled data to predict outcomes for new data.\\n- **Unsupervised Learning**: Uses unlabeled data to find hidden patterns or intrinsic structures.\\n\\nBoth types of learning have their own strengths and are used based on the nature of the problem and the availability of labeled data.',\n",
              "   'reference': {'must_mention': ['labeled', 'data']}}},\n",
              " 'aggregate_metrics': None}"
            ]
          },
          "execution_count": 24,
          "metadata": {},
          "output_type": "execute_result"
        }
      ],
      "source": [
        "client.run_on_dataset(\n",
        "    dataset_name=dataset_name,\n",
        "    llm_or_chain_factory=agent_chain,\n",
        "    evaluation=eval_config,\n",
        "    verbose=True,\n",
        "    project_name=f\"RAG Pipeline - Evaluation - {uuid4().hex[0:8]}\",\n",
        "    project_metadata={\"version\": \"1.0.0\"},\n",
        ")"
      ]
    },
    {
      "cell_type": "markdown",
      "metadata": {
        "id": "jhTNe4kWrplB"
      },
      "source": [
        "## Part 2: LangGraph with Helpfulness:"
      ]
    },
    {
      "cell_type": "markdown",
      "metadata": {
        "id": "w1wKRddbIY_S"
      },
      "source": [
        "### Task 3: Adding Helpfulness Check and \"Loop\" Limits\n",
        "\n",
        "Now that we've done evaluation - let's see if we can add an extra step where we review the content we've generated to confirm if it fully answers the user's query!\n",
        "\n",
        "We're going to make a few key adjustments to account for this:\n",
        "\n",
        "1. We're going to add an artificial limit on how many \"loops\" the agent can go through - this will help us to avoid the potential situation where we never exit the loop.\n",
        "2. We'll add to our existing conditional edge to obtain the behaviour we desire."
      ]
    },
    {
      "cell_type": "markdown",
      "metadata": {
        "id": "npTYJ8ayR5B3"
      },
      "source": [
        "First, let's define our state again - we can check the length of the state object, so we don't need additional state for this."
      ]
    },
    {
      "cell_type": "code",
      "execution_count": 74,
      "metadata": {
        "id": "-LQ84YhyJG0w"
      },
      "outputs": [],
      "source": [
        "class AgentState(TypedDict):\n",
        "  messages: Annotated[list, add_messages]"
      ]
    },
    {
      "cell_type": "markdown",
      "metadata": {
        "id": "sD7EV0HqSQcb"
      },
      "source": [
        "Now we can set our graph up! This process will be almost entirely the same - with the inclusion of one additional node/conditional edge!"
      ]
    },
    {
      "cell_type": "markdown",
      "metadata": {
        "id": "oajBwLkFVi1N"
      },
      "source": [
        "####🏗️ Activity #5:\n",
        "\n",
        "Please write markdown for the following cells to explain what each is doing."
      ]
    },
    {
      "cell_type": "markdown",
      "metadata": {
        "id": "M6rN7feNVn9f"
      },
      "source": [
        "##### First, we add the agent and action nodes, with the agent calling the LLM API, and the action node having the ability to call tools."
      ]
    },
    {
      "cell_type": "code",
      "execution_count": 75,
      "metadata": {
        "id": "6r6XXA5FJbVf"
      },
      "outputs": [],
      "source": [
        "graph_with_helpfulness_check = StateGraph(AgentState)\n",
        "\n",
        "graph_with_helpfulness_check.add_node(\"agent\", call_model)\n",
        "graph_with_helpfulness_check.add_node(\"action\", tool_node)"
      ]
    },
    {
      "cell_type": "markdown",
      "metadata": {
        "id": "XZ22o2mWVrfp"
      },
      "source": [
        "##### Then we add an entry point to the graph into the agent"
      ]
    },
    {
      "cell_type": "code",
      "execution_count": 76,
      "metadata": {
        "id": "HNWHwWxuRiLY"
      },
      "outputs": [],
      "source": [
        "graph_with_helpfulness_check.set_entry_point(\"agent\")"
      ]
    },
    {
      "cell_type": "markdown",
      "metadata": {
        "id": "rsXeF6xlaXOZ"
      },
      "source": [
        "#### Now, we need to define the state and how it is passed between the nodes. \n",
        "\n",
        "#### After each time a message is appended to the message history, that message is checked if it has a tool call. If it does, then the state is passed to the action node so the agent can perform an action. \n",
        "\n",
        "#### We then check if there are more than 10 messages. If there are, we 'end' the cycle. \n",
        "\n",
        "#### If there are no tool calls and the conversation is not greater than 10, there is then the prompt template for evaluating helpfulness. If the prompt is helpful, the criterion returns a Y, and N if not helpful. \n",
        "\n",
        "#### We then create a chain using the prompt template, the model of choice, and an output parser. \n",
        "\n",
        "#### The chain is then invoked with the input as the initial query, and the output to check as the 'last message' to be evaluated.\n",
        "\n",
        "#### If the helpfulness chain returns a Y for the last message being helpful, it ends the cycle. IF the response is not helpful, it continues the cycle. \n",
        "\n"
      ]
    },
    {
      "cell_type": "code",
      "execution_count": 77,
      "metadata": {
        "id": "z_Sq3A9SaV1O"
      },
      "outputs": [],
      "source": [
        "from langchain_core.prompts import PromptTemplate\n",
        "from langchain_core.output_parsers import StrOutputParser\n",
        "\n",
        "def tool_call_or_helpful(state):\n",
        "  last_message = state[\"messages\"][-1]\n",
        "\n",
        "  if last_message.tool_calls:\n",
        "    return \"action\"\n",
        "\n",
        "  initial_query = state[\"messages\"][0]\n",
        "  final_response = state[\"messages\"][-1]\n",
        "\n",
        "  if len(state[\"messages\"]) > 10:\n",
        "    return \"END\"\n",
        "\n",
        "  prompt_template = \"\"\"\\\n",
        "  Given an initial query and a final response, determine if the final response is extremely helpful or not. Please indicate helpfulness with a 'Y' and unhelpfulness as an 'N'.\n",
        "\n",
        "  Initial Query:\n",
        "  {initial_query}\n",
        "\n",
        "  Final Response:\n",
        "  {final_response}\"\"\"\n",
        "\n",
        "  prompt_template = PromptTemplate.from_template(prompt_template)\n",
        "\n",
        "  helpfulness_check_model = ChatOpenAI(model=\"gpt-4\")\n",
        "\n",
        "  helpfulness_chain = prompt_template | helpfulness_check_model | StrOutputParser()\n",
        "\n",
        "  helpfulness_response = helpfulness_chain.invoke({\"initial_query\" : initial_query.content, \"final_response\" : final_response.content})\n",
        "\n",
        "  if \"Y\" in helpfulness_response:\n",
        "    return \"end\"\n",
        "  else:\n",
        "    return \"continue\""
      ]
    },
    {
      "cell_type": "markdown",
      "metadata": {
        "id": "Fz1u9Vf4SHxJ"
      },
      "source": [
        "####🏗️ Activity #4:\n",
        "\n",
        "Please write what is happening in our `tool_call_or_helpful` function!\n",
        "\n",
        "The tool call or helpful function evaluates if the agent's state is currently a tool call or a possible last message. \n",
        "\n",
        "If it is a tool call, then the state is passed to the action node. \n",
        "\n",
        "If it is not a tool call, the message list is checked to see if it has reached 10 messages.\n",
        "\n",
        "If it has not reached 10, the message is evaluated as a part of a chain to see if it is helpful. \n",
        "\n",
        "If the message if helpful, the cycle ends. \n",
        "\n",
        "If the message is not helpful, the cycle continues until it reaches 10 messages. "
      ]
    },
    {
      "cell_type": "markdown",
      "metadata": {
        "id": "6BhnBW2YVsJO"
      },
      "source": [
        "#### Now we need to add the conditional edges between the agent, action, and end nodes.\n",
        "\n",
        "#### the code wasn't working, so I changed it to identify the edges and nodes. "
      ]
    },
    {
      "cell_type": "code",
      "execution_count": 78,
      "metadata": {
        "id": "aVTKnWMbP_8T"
      },
      "outputs": [],
      "source": [
        "graph_with_helpfulness_check.add_conditional_edges(\n",
        "    \"agent\",\n",
        "    tool_call_or_helpful,\n",
        "    {\n",
        "        \"continue\" : \"agent\",\n",
        "        \"action\" : \"action\",\n",
        "        \"end\" : END\n",
        "    }\n",
        ")"
      ]
    },
    {
      "cell_type": "code",
      "execution_count": 79,
      "metadata": {},
      "outputs": [],
      "source": [
        "graph_with_helpfulness_check.add_edge(\"action\", \"agent\")"
      ]
    },
    {
      "cell_type": "code",
      "execution_count": 80,
      "metadata": {
        "id": "cbDK2MbuREgU"
      },
      "outputs": [],
      "source": [
        "agent_with_helpfulness_check = graph_with_helpfulness_check.compile()"
      ]
    },
    {
      "cell_type": "markdown",
      "metadata": {
        "id": "rSI8AOaEVvT-"
      },
      "source": [
        "##### YOUR MARKDOWN HERE"
      ]
    },
    {
      "cell_type": "code",
      "execution_count": 81,
      "metadata": {
        "id": "oQldl8ERQ8lf"
      },
      "outputs": [
        {
          "name": "stdout",
          "output_type": "stream",
          "text": [
            "Receiving update from node: 'agent'\n",
            "[AIMessage(content='', additional_kwargs={'tool_calls': [{'id': 'call_XnsBmAvjUYKM0zloLsTAQVTD', 'function': {'arguments': '{\"query\": \"LoRA machine learning\"}', 'name': 'arxiv'}, 'type': 'function'}, {'id': 'call_I63lHcbT0XsSPiX5IYtF2P1C', 'function': {'arguments': '{\"query\": \"Tim Dettmers\"}', 'name': 'duckduckgo_search'}, 'type': 'function'}, {'id': 'call_noieJS7YctnDSyasWx5zVvCC', 'function': {'arguments': '{\"query\": \"Attention mechanism machine learning\"}', 'name': 'arxiv'}, 'type': 'function'}], 'refusal': None}, response_metadata={'token_usage': {'completion_tokens': 70, 'prompt_tokens': 171, 'total_tokens': 241}, 'model_name': 'gpt-4o-2024-05-13', 'system_fingerprint': 'fp_157b3831f5', 'finish_reason': 'tool_calls', 'logprobs': None}, id='run-76385e9e-31fe-4af2-ab44-a18be1a4eef8-0', tool_calls=[{'name': 'arxiv', 'args': {'query': 'LoRA machine learning'}, 'id': 'call_XnsBmAvjUYKM0zloLsTAQVTD', 'type': 'tool_call'}, {'name': 'duckduckgo_search', 'args': {'query': 'Tim Dettmers'}, 'id': 'call_I63lHcbT0XsSPiX5IYtF2P1C', 'type': 'tool_call'}, {'name': 'arxiv', 'args': {'query': 'Attention mechanism machine learning'}, 'id': 'call_noieJS7YctnDSyasWx5zVvCC', 'type': 'tool_call'}], usage_metadata={'input_tokens': 171, 'output_tokens': 70, 'total_tokens': 241})]\n",
            "\n",
            "\n",
            "\n",
            "Receiving update from node: 'action'\n",
            "[ToolMessage(content='Published: 2024-06-17\\nTitle: Compress then Serve: Serving Thousands of LoRA Adapters with Little Overhead\\nAuthors: Rickard Brüel-Gabrielsson, Jiacheng Zhu, Onkar Bhardwaj, Leshem Choshen, Kristjan Greenewald, Mikhail Yurochkin, Justin Solomon\\nSummary: Fine-tuning large language models (LLMs) with low-rank adapters (LoRAs) has\\nbecome common practice, often yielding numerous copies of the same LLM\\ndiffering only in their LoRA updates. This paradigm presents challenges for\\nsystems that serve real-time responses to queries that each involve a different\\nLoRA. Prior works optimize the design of such systems but still require\\ncontinuous loading and offloading of LoRAs, as it is infeasible to store\\nthousands of LoRAs in GPU memory. To mitigate this issue, we investigate the\\nefficacy of compression when serving LoRA adapters. We consider compressing\\nadapters individually via SVD and propose a method for joint compression of\\nLoRAs into a shared basis paired with LoRA-specific scaling matrices. Our\\nexperiments with up to 500 LoRAs demonstrate that compressed LoRAs preserve\\nperformance while offering major throughput gains in realistic serving\\nscenarios with over a thousand LoRAs, maintaining 75% of the throughput of\\nserving a single LoRA.\\n\\nPublished: 2024-04-07\\nTitle: A Note on LoRA\\nAuthors: Vlad Fomenko, Han Yu, Jongho Lee, Stanley Hsieh, Weizhu Chen\\nSummary: LoRA (Low-Rank Adaptation) has emerged as a preferred method for efficiently\\nadapting Large Language Models (LLMs) with remarkable simplicity and efficacy.\\nThis note extends the original LoRA paper by offering new perspectives that\\nwere not initially discussed and presents a series of insights for deploying\\nLoRA at scale. Without introducing new experiments, we aim to improve the\\nunderstanding and application of LoRA.\\n\\nPublished: 2024-06-18\\nTitle: LoRA-drop: Efficient LoRA Parameter Pruning based on Output Evaluation\\nAuthors: Hongyun Zhou, Xiangyu Lu, Wang Xu, Conghui Zhu, Tiejun Zhao, Muyun Yang\\nSummary: Low-Rank Adaptation (LoRA) is currently the most commonly used\\nParameter-efficient fine-tuning (PEFT) method, it introduces auxiliary\\nparameters for each layer to fine-tune the pre-trained model under limited\\ncomputing resources. However, it still faces resource consumption challenges\\nduring training when scaling up to larger models. Most previous studies have\\ntackled this issue by using pruning techniques, which involve removing LoRA\\nparameters deemed unimportant. Nonetheless, these efforts only analyze LoRA\\nparameter features to evaluate their importance, such as parameter count, size,\\nand gradient. In fact, the output of LoRA (product of LoRA parameter and hidden\\nstate), directly impacts the final results. Preliminary experiments indicate\\nthat a fraction of LoRA elements possesses significantly high output values,\\nsubstantially influencing the layer output. Motivated by the observation, we\\npropose LoRA-drop. Concretely, LoRA-drop evaluates the importance of LoRA based\\non the LoRA output. Then we retain LoRA for important layers and the other\\nlayers share the same LoRA. We conduct abundant experiments with models of\\ndifferent scales on NLU and NLG tasks. Results demonstrate that LoRA-drop can\\nachieve performance comparable to full fine-tuning and LoRA, while retaining\\n50\\\\% of the LoRA parameters on average.', name='arxiv', tool_call_id='call_XnsBmAvjUYKM0zloLsTAQVTD'), ToolMessage(content='Allen School Ph.D. student Tim Dettmers accepted the grand prize for QLoRA, a novel approach to finetuning pretrained models that significantly reduces the amount of GPU memory required — from over 780GB to less than 48GB — to finetune a 65B parameter model. With QLoRA, the largest publicly available models can be finetuned on a single ... — Tim Dettmers is joining Ai2 as an AI researcher. Dettmers specializes in efficient deep learning at the intersection of machine learning, NLP, and computer systems with a focus on quantization ... Its purpose is to make cutting-edge research by Tim Dettmers, a leading academic expert on quantization and the use of deep learning hardware accelerators, accessible to the general public. QLoRA: One of the core contributions of bitsandbytes towards the democratization of AI. Tim Dettmers. Video. Tech Moves: AI researcher Yejin Choi leaves Univ. of Washington and Allen Institute for AI. by Todd Bishop & Taylor Soper on August 2, 2024 August 2, 2024 at 11:59 am. If you have a curiosity about how fancy graphics cards actually work, and why they are so well-suited to AI-type applications, then take a few minutes to read [Tim Dettmers] explain why this is so.…', name='duckduckgo_search', tool_call_id='call_I63lHcbT0XsSPiX5IYtF2P1C'), ToolMessage(content='Published: 2022-03-27\\nTitle: A General Survey on Attention Mechanisms in Deep Learning\\nAuthors: Gianni Brauwers, Flavius Frasincar\\nSummary: Attention is an important mechanism that can be employed for a variety of\\ndeep learning models across many different domains and tasks. This survey\\nprovides an overview of the most important attention mechanisms proposed in the\\nliterature. The various attention mechanisms are explained by means of a\\nframework consisting of a general attention model, uniform notation, and a\\ncomprehensive taxonomy of attention mechanisms. Furthermore, the various\\nmeasures for evaluating attention models are reviewed, and methods to\\ncharacterize the structure of attention models based on the proposed framework\\nare discussed. Last, future work in the field of attention models is\\nconsidered.\\n\\nPublished: 2022-07-04\\nTitle: Attention mechanisms for physiological signal deep learning: which attention should we take?\\nAuthors: Seong-A Park, Hyung-Chul Lee, Chul-Woo Jung, Hyun-Lim Yang\\nSummary: Attention mechanisms are widely used to dramatically improve deep learning\\nmodel performance in various fields. However, their general ability to improve\\nthe performance of physiological signal deep learning model is immature. In\\nthis study, we experimentally analyze four attention mechanisms (e.g.,\\nsqueeze-and-excitation, non-local, convolutional block attention module, and\\nmulti-head self-attention) and three convolutional neural network (CNN)\\narchitectures (e.g., VGG, ResNet, and Inception) for two representative\\nphysiological signal prediction tasks: the classification for predicting\\nhypotension and the regression for predicting cardiac output (CO). We evaluated\\nmultiple combinations for performance and convergence of physiological signal\\ndeep learning model. Accordingly, the CNN models with the spatial attention\\nmechanism showed the best performance in the classification problem, whereas\\nthe channel attention mechanism achieved the lowest error in the regression\\nproblem. Moreover, the performance and convergence of the CNN models with\\nattention mechanisms were better than stand-alone self-attention models in both\\nproblems. Hence, we verified that convolutional operation and attention\\nmechanisms are complementary and provide faster convergence time, despite the\\nstand-alone self-attention models requiring fewer parameters.\\n\\nPublished: 2018-10-17\\nTitle: An Analysis of Attention Mechanisms: The Case of Word Sense Disambiguation in Neural Machine Translation\\nAuthors: Gongbo Tang, Rico Sennrich, Joakim Nivre\\nSummary: Recent work has shown that the encoder-decoder attention mechanisms in neural\\nmachine translation (NMT) are different from the word alignment in statistical\\nmachine translation. In this paper, we focus on analyzing encoder-decoder\\nattention mechanisms, in the case of word sense disambiguation (WSD) in NMT\\nmodels. We hypothesize that attention mechanisms pay more attention to context\\ntokens when translating ambiguous words. We explore the attention distribution\\npatterns when translating ambiguous nouns. Counter-intuitively, we find that\\nattention mechanisms are likely to distribute more attention to the ambiguous\\nnoun itself rather than context tokens, in comparison to other nouns. We\\nconclude that attention mechanism is not the main mechanism used by NMT models\\nto incorporate contextual information for WSD. The experimental results suggest\\nthat NMT models learn to encode contextual information necessary for WSD in the\\nencoder hidden states. For the attention mechanism in Transformer models, we\\nreveal that the first few layers gradually learn to \"align\" source and target\\ntokens and the last few layers learn to extract features from the related but\\nunaligned context tokens.', name='arxiv', tool_call_id='call_noieJS7YctnDSyasWx5zVvCC')]\n",
            "\n",
            "\n",
            "\n",
            "Receiving update from node: 'agent'\n",
            "[AIMessage(content=\"### LoRA (Low-Rank Adaptation) in Machine Learning\\n\\nLoRA (Low-Rank Adaptation) is a method used for efficiently fine-tuning large language models (LLMs). It introduces auxiliary parameters for each layer to fine-tune the pre-trained model under limited computing resources. This approach has become popular due to its simplicity and effectiveness. Here are some key points from recent research:\\n\\n1. **Compression and Serving**: Research has shown that compressing LoRA adapters can preserve performance while offering significant throughput gains. This is particularly useful when serving thousands of LoRA adapters in real-time scenarios.\\n2. **Parameter Pruning**: Techniques like LoRA-drop evaluate the importance of LoRA parameters based on their output, allowing for efficient pruning and resource management without significant loss in performance.\\n3. **Scalability**: LoRA is favored for its ability to scale efficiently, making it a preferred method for adapting LLMs.\\n\\n### Tim Dettmers\\n\\nTim Dettmers is a notable figure in the field of machine learning, particularly known for his work on efficient deep learning. He specializes in areas such as quantization and the use of deep learning hardware accelerators. Some highlights about him include:\\n\\n- **QLoRA**: Tim Dettmers developed QLoRA, a method that significantly reduces the GPU memory required to fine-tune large models, making it possible to fine-tune a 65B parameter model with less than 48GB of GPU memory.\\n- **Research Focus**: His research intersects machine learning, natural language processing (NLP), and computer systems, with a focus on making deep learning more efficient and accessible.\\n\\n### Attention Mechanism in Machine Learning\\n\\nAttention mechanisms are crucial components in many deep learning models, especially in natural language processing (NLP). They allow models to focus on different parts of the input sequence when making predictions. Here are some insights from recent studies:\\n\\n1. **General Overview**: Attention mechanisms can be employed across various domains and tasks. They are explained through a framework consisting of a general attention model, uniform notation, and a comprehensive taxonomy.\\n2. **Physiological Signal Deep Learning**: Different attention mechanisms (e.g., squeeze-and-excitation, non-local, convolutional block attention module, and multi-head self-attention) have been analyzed for their performance in physiological signal prediction tasks. The combination of convolutional operations and attention mechanisms has shown to provide faster convergence and better performance.\\n3. **Word Sense Disambiguation in NMT**: In neural machine translation (NMT), attention mechanisms are used to handle word sense disambiguation. However, it has been found that attention mechanisms may focus more on ambiguous nouns themselves rather than context tokens, suggesting that NMT models encode contextual information in the encoder hidden states.\\n\\nThese insights provide a comprehensive understanding of LoRA, Tim Dettmers' contributions, and the role of attention mechanisms in machine learning.\", additional_kwargs={'refusal': None}, response_metadata={'token_usage': {'completion_tokens': 592, 'prompt_tokens': 2073, 'total_tokens': 2665}, 'model_name': 'gpt-4o-2024-05-13', 'system_fingerprint': 'fp_157b3831f5', 'finish_reason': 'stop', 'logprobs': None}, id='run-e7d10f5a-e495-4e29-aedc-dcfbcd53d619-0', usage_metadata={'input_tokens': 2073, 'output_tokens': 592, 'total_tokens': 2665})]\n",
            "\n",
            "\n",
            "\n"
          ]
        }
      ],
      "source": [
        "inputs = {\"messages\" : [HumanMessage(content=\"Related to machine learning, what is LoRA? Also, who is Tim Dettmers? Also, what is Attention?\")]}\n",
        "\n",
        "async for chunk in agent_with_helpfulness_check.astream(inputs, stream_mode=\"updates\"):\n",
        "    for node, values in chunk.items():\n",
        "        print(f\"Receiving update from node: '{node}'\")\n",
        "        print(values[\"messages\"])\n",
        "        print(\"\\n\\n\")"
      ]
    },
    {
      "cell_type": "markdown",
      "metadata": {
        "id": "yVmZPs6lnpsM"
      },
      "source": [
        "### Task 4: LangGraph for the \"Patterns\" of GenAI\n",
        "\n",
        "Let's ask our system about the 4 patterns of Generative AI:\n",
        "\n",
        "1. Prompt Engineering\n",
        "2. RAG\n",
        "3. Fine-tuning\n",
        "4. Agents"
      ]
    },
    {
      "cell_type": "code",
      "execution_count": 82,
      "metadata": {
        "id": "ZoLl7GlXoae-"
      },
      "outputs": [],
      "source": [
        "patterns = [\"prompt engineering\", \"RAG\", \"fine-tuning\", \"LLM-based agents\"]"
      ]
    },
    {
      "cell_type": "code",
      "execution_count": 83,
      "metadata": {
        "colab": {
          "base_uri": "https://localhost:8080/"
        },
        "id": "Zkh0YJuCp3Zl",
        "outputId": "0593c6f5-0a1d-41f6-960b-f32d101b3ade"
      },
      "outputs": [
        {
          "name": "stdout",
          "output_type": "stream",
          "text": [
            "### What is Prompt Engineering?\n",
            "\n",
            "Prompt engineering is the practice of creating effective prompts to interact optimally with generative AI models, such as large language models (LLMs). These prompts provide the AI with the necessary information and guidance to generate specific types of content that meet particular requirements, such as voice, tone, and accuracy. The process involves refining and iterating prompts to improve the accuracy and effectiveness of the AI's responses. Prompt engineering is crucial in tasks related to Natural Language Processing (NLP) and can be applied to various AI models like ChatGPT, DALL-E, and others.\n",
            "\n",
            "### When Did Prompt Engineering Become Popular?\n",
            "\n",
            "Prompt engineering has gained significant attention and popularity in recent years, particularly with the rise of advanced generative AI models. The practice became more prominent as these models started to be widely used for various applications, including text generation, image creation, and code writing. The empirical science of testing different prompts to optimize an LLM's performance has led to the discovery of many techniques and best practices, making prompt engineering an essential skill in the AI field. The role of prompt engineers has become so valuable that it can command high salaries, with some positions offering up to $520,000 annually as of August 2023.\n",
            "\n",
            "\n",
            "\n",
            "RAG stands for Retrieval-Augmented Generation. It is a technique in natural language processing (NLP) that combines retrieval-based methods with generative models to improve the quality and relevance of generated text. The key idea is to retrieve relevant documents or pieces of information from a large corpus and use this retrieved information to guide the generation process.\n",
            "\n",
            "RAG was introduced by Facebook AI Research (FAIR) in a paper titled \"Retrieval-Augmented Generation for Knowledge-Intensive NLP Tasks,\" which was published in 2020. The technique leverages both retrieval and generation to handle tasks that require access to a large amount of external knowledge, such as open-domain question answering, dialogue systems, and more.\n",
            "\n",
            "Would you like more detailed information or specific aspects of RAG?\n",
            "\n",
            "\n",
            "\n",
            "Fine-tuning is a process in machine learning where a pre-trained model is further trained on a new dataset to adapt it to a specific task. This process leverages the knowledge the model has already acquired during its initial training on a large, general dataset, and refines it to perform better on a more specific task or dataset. Fine-tuning is particularly useful in transfer learning, where the goal is to transfer the knowledge from one domain to another.\n",
            "\n",
            "### Key Steps in Fine-Tuning:\n",
            "1. **Pre-training**: Train a model on a large, general dataset.\n",
            "2. **Fine-tuning**: Continue training the pre-trained model on a smaller, task-specific dataset.\n",
            "\n",
            "### Benefits of Fine-Tuning:\n",
            "- **Efficiency**: Reduces the amount of data and computational resources needed.\n",
            "- **Performance**: Often leads to better performance on the specific task compared to training a model from scratch.\n",
            "- **Speed**: Faster convergence during training.\n",
            "\n",
            "### Historical Context:\n",
            "Fine-tuning became particularly prominent with the advent of deep learning and the availability of large pre-trained models. It gained significant attention with the success of models like BERT (Bidirectional Encoder Representations from Transformers) and GPT (Generative Pre-trained Transformer) in natural language processing (NLP).\n",
            "\n",
            "To pinpoint the exact time when fine-tuning became a major focus, I can look up some key papers and events. Would you like me to do that?\n",
            "\n",
            "\n",
            "\n",
            "LLM-based agents, or Large Language Model-based agents, are systems that leverage large language models (LLMs) to perform a variety of tasks that involve understanding and generating human language. These tasks can include answering questions, generating text, translating languages, summarizing documents, and even engaging in conversations. The underlying technology for these agents is typically based on advanced neural network architectures, such as the Transformer model, which has been highly successful in natural language processing (NLP).\n",
            "\n",
            "### Key Characteristics of LLM-based Agents:\n",
            "1. **Large-scale Training**: These models are trained on vast amounts of text data from the internet, books, articles, and other sources.\n",
            "2. **Contextual Understanding**: They can understand and generate text based on the context provided, making them highly versatile.\n",
            "3. **Generalization**: They can generalize from the training data to perform well on a wide range of tasks without task-specific training.\n",
            "4. **Interactive Capabilities**: They can engage in interactive dialogues, making them useful for applications like chatbots and virtual assistants.\n",
            "\n",
            "### Emergence and Breakthrough:\n",
            "The concept of LLM-based agents has been around for a while, but significant breakthroughs occurred with the development of models like OpenAI's GPT (Generative Pre-trained Transformer) series. Here are some key milestones:\n",
            "\n",
            "1. **2018**: The release of GPT-1 by OpenAI marked a significant step in the development of LLMs. It demonstrated the potential of pre-training a language model on a large corpus of text and then fine-tuning it for specific tasks.\n",
            "2. **2019**: GPT-2 was released, which was much larger and more powerful than its predecessor. It gained widespread attention for its ability to generate coherent and contextually relevant text.\n",
            "3. **2020**: GPT-3 was introduced, with 175 billion parameters, making it one of the largest and most powerful language models at the time. Its capabilities in generating human-like text and performing a wide range of tasks without task-specific training brought LLM-based agents into the mainstream.\n",
            "4. **2021 and Beyond**: Continued advancements in LLMs, including models like OpenAI's Codex (which powers GitHub Copilot) and other models from organizations like Google (BERT, T5) and Microsoft, have further solidified the role of LLM-based agents in various applications.\n",
            "\n",
            "To get the most current information on LLM-based agents, including recent developments and applications, I can perform a search. Would you like me to do that?\n",
            "\n",
            "\n",
            "\n"
          ]
        }
      ],
      "source": [
        "for pattern in patterns:\n",
        "  what_is_string = f\"What is {pattern} and when did it break onto the scene??\"\n",
        "  inputs = {\"messages\" : [HumanMessage(content=what_is_string)]}\n",
        "  messages = agent_with_helpfulness_check.invoke(inputs)\n",
        "  print(messages[\"messages\"][-1].content)\n",
        "  print(\"\\n\\n\")"
      ]
    }
  ],
  "metadata": {
    "colab": {
      "provenance": []
    },
    "kernelspec": {
      "display_name": "Python 3",
      "name": "python3"
    },
    "language_info": {
      "codemirror_mode": {
        "name": "ipython",
        "version": 3
      },
      "file_extension": ".py",
      "mimetype": "text/x-python",
      "name": "python",
      "nbconvert_exporter": "python",
      "pygments_lexer": "ipython3",
      "version": "3.12.2"
    }
  },
  "nbformat": 4,
  "nbformat_minor": 0
}
